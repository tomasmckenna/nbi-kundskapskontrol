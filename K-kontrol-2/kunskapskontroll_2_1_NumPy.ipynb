{
 "cells": [
  {
   "cell_type": "markdown",
   "id": "dacf74e6",
   "metadata": {},
   "source": [
    "# NumPy"
   ]
  },
  {
   "cell_type": "markdown",
   "id": "01b2bf34",
   "metadata": {},
   "source": [
    "Read the links: https://numpy.org/doc/stable/user/quickstart.html  and https://numpy.org/doc/stable/user/basics.broadcasting.html  before solving the exercises. "
   ]
  },
  {
   "cell_type": "code",
   "execution_count": 2,
   "id": "1f79e4a6",
   "metadata": {},
   "outputs": [],
   "source": [
    "import numpy as np"
   ]
  },
  {
   "cell_type": "markdown",
   "id": "7dae6889",
   "metadata": {},
   "source": [
    "### Print out the dimension (number of axes), shape, size and the datatype of the matrix A."
   ]
  },
  {
   "cell_type": "code",
   "execution_count": 5,
   "id": "7b3678cd",
   "metadata": {},
   "outputs": [],
   "source": [
    "A = np.arange(1, 16).reshape(3,5)"
   ]
  },
  {
   "cell_type": "code",
   "execution_count": 3,
   "id": "31d39235",
   "metadata": {},
   "outputs": [
    {
     "data": {
      "text/plain": [
       "2"
      ]
     },
     "execution_count": 3,
     "metadata": {},
     "output_type": "execute_result"
    }
   ],
   "source": [
    "A.ndim"
   ]
  },
  {
   "cell_type": "code",
   "execution_count": 12,
   "id": "1bdf75a2",
   "metadata": {},
   "outputs": [
    {
     "data": {
      "text/plain": [
       "(3, 5)"
      ]
     },
     "execution_count": 12,
     "metadata": {},
     "output_type": "execute_result"
    }
   ],
   "source": [
    "A.shape"
   ]
  },
  {
   "cell_type": "code",
   "execution_count": null,
   "id": "60d2bcf2",
   "metadata": {},
   "outputs": [
    {
     "data": {
      "text/plain": [
       "8"
      ]
     },
     "execution_count": 10,
     "metadata": {},
     "output_type": "execute_result"
    }
   ],
   "source": [
    "A.itemsize"
   ]
  },
  {
   "cell_type": "code",
   "execution_count": null,
   "id": "9c310603",
   "metadata": {},
   "outputs": [
    {
     "data": {
      "text/plain": [
       "'int64'"
      ]
     },
     "execution_count": 11,
     "metadata": {},
     "output_type": "execute_result"
    }
   ],
   "source": [
    "A.dtype.name"
   ]
  },
  {
   "cell_type": "markdown",
   "id": "e56d2a96",
   "metadata": {},
   "source": [
    "### Do the following computations on the matrices B and C: \n",
    "* Elementwise subtraction. \n",
    "* Elementwise multiplication. \n",
    "* Matrix multiplication (by default you should use the @ operator)."
   ]
  },
  {
   "cell_type": "code",
   "execution_count": null,
   "id": "a7053fbb",
   "metadata": {},
   "outputs": [
    {
     "name": "stdout",
     "output_type": "stream",
     "text": [
      "[[1 2 3]\n",
      " [4 5 6]\n",
      " [7 8 9]]\n",
      "\n",
      "[[2. 2. 2.]\n",
      " [2. 2. 2.]\n",
      " [2. 2. 2.]]\n",
      "\n",
      "Elementwise subtraction.\n",
      "[[-1.  0.  1.]\n",
      " [ 2.  3.  4.]\n",
      " [ 5.  6.  7.]]\n",
      "* Elementwise multiplication.\n",
      "[[ 2.  4.  6.]\n",
      " [ 8. 10. 12.]\n",
      " [14. 16. 18.]]\n",
      " Matrix multiplication\n",
      "[[12. 12. 12.]\n",
      " [30. 30. 30.]\n",
      " [48. 48. 48.]]\n"
     ]
    }
   ],
   "source": [
    "B = np.arange(1, 10).reshape(3, 3)\n",
    "C = np.ones((3, 3))*2\n",
    "\n",
    "print(B)\n",
    "print()\n",
    "print(C)\n",
    "print()\n",
    "D = np.subtract(B,C) # = B - C\n",
    "E = np.multiply(B,C) # = B * C\n",
    "F=(B@C)\n",
    "print('Elementwise subtraction.')\n",
    "print(D)\n",
    "print('Elementwise multiplication.')\n",
    "print(E)\n",
    "print(' Matrix multiplication')\n",
    "print(F)"
   ]
  },
  {
   "cell_type": "code",
   "execution_count": null,
   "id": "3cd794ae",
   "metadata": {},
   "outputs": [],
   "source": []
  },
  {
   "cell_type": "markdown",
   "id": "96030d53",
   "metadata": {},
   "source": [
    "### Do the following calculations on the matrix:\n",
    "* Exponentiate each number elementwise (use the np.exp function).\n",
    "\n",
    "* Calculate the minimum value in the whole matrix. \n",
    "* Calculcate the minimum value in each row. \n",
    "* Calculcate the minimum value in each column. \n",
    "\n",
    "\n",
    "* Find the index value for the minimum value in the whole matrix (hint: use np.argmin).\n",
    "* Find the index value for the minimum value in each row (hint: use np.argmin).\n",
    "\n",
    "\n",
    "* Calculate the sum for all elements.\n",
    "* Calculate the mean for each column. \n",
    "* Calculate the median for each column. "
   ]
  },
  {
   "cell_type": "code",
   "execution_count": 12,
   "id": "f8a9166b",
   "metadata": {},
   "outputs": [
    {
     "name": "stdout",
     "output_type": "stream",
     "text": [
      "[[1 2 3]\n",
      " [4 5 6]\n",
      " [7 8 9]]\n",
      "* Exponentiate each number elementwise (use the np.exp function).\n",
      "[[2.71828183e+00 7.38905610e+00 2.00855369e+01]\n",
      " [5.45981500e+01 1.48413159e+02 4.03428793e+02]\n",
      " [1.09663316e+03 2.98095799e+03 8.10308393e+03]]\n",
      "Calculate the minimum value in the whole matrix.\n",
      "1\n",
      "* Calculcate the minimum value in each row.\n",
      "[1 4 7]\n",
      " Calculcate the minimum value in each column.\n",
      "[1 2 3]\n",
      "Find the index value for the minimum value in the whole matrix\n",
      "0\n",
      "Find the index value for the minimum value in each row \n",
      "[0 0 0]\n",
      "Calculate the sum for all elements.\n",
      "45\n",
      "* Calculate the mean for each column.\n",
      "[4. 5. 6.]\n",
      "Calculate the median for each column. \n",
      "[4. 5. 6.]\n"
     ]
    }
   ],
   "source": [
    "B = np.arange(1, 10).reshape(3, 3)\n",
    "print(B)\n",
    "print('* Exponentiate each number elementwise (use the np.exp function).')\n",
    "print(np.exp(B))\n",
    "\n",
    "print('Calculate the minimum value in the whole matrix.')\n",
    "print(np.min(B))\n",
    "print('* Calculcate the minimum value in each row.')\n",
    "print(np.min(B, axis=1))\n",
    "\n",
    "print(' Calculcate the minimum value in each column.')\n",
    "print(np.min(B, axis=0))\n",
    "\n",
    "print('Find the index value for the minimum value in the whole matrix')\n",
    "print(np.argmin(B))\n",
    "print('Find the index value for the minimum value in each row ')\n",
    "print(np.argmin(B, axis=1))\n",
    "\n",
    "print('Calculate the sum for all elements.')\n",
    "print(np.sum(B))\n",
    "print('* Calculate the mean for each column.')\n",
    "print(np.mean(B,axis=0))\n",
    "print('Calculate the median for each column. ')\n",
    "print(np.median(B, axis=0))\n",
    "\n"
   ]
  },
  {
   "cell_type": "code",
   "execution_count": null,
   "id": "f03f24f7",
   "metadata": {},
   "outputs": [],
   "source": []
  },
  {
   "cell_type": "markdown",
   "id": "541eb7ba",
   "metadata": {},
   "source": [
    "### What does it mean when you provide fewer indices than axes when slicing? See example below."
   ]
  },
  {
   "cell_type": "code",
   "execution_count": 16,
   "id": "9c8abf56",
   "metadata": {},
   "outputs": [
    {
     "name": "stdout",
     "output_type": "stream",
     "text": [
      "[[ 1  2  3  4  5]\n",
      " [ 6  7  8  9 10]\n",
      " [11 12 13 14 15]]\n"
     ]
    }
   ],
   "source": [
    "print(A)"
   ]
  },
  {
   "cell_type": "code",
   "execution_count": 6,
   "id": "69415f7b",
   "metadata": {},
   "outputs": [
    {
     "data": {
      "text/plain": [
       "array([ 6,  7,  8,  9, 10])"
      ]
     },
     "execution_count": 6,
     "metadata": {},
     "output_type": "execute_result"
    }
   ],
   "source": [
    "A[1]"
   ]
  },
  {
   "cell_type": "markdown",
   "id": "6c53541b",
   "metadata": {},
   "source": [
    "**Answer:**"
   ]
  },
  {
   "cell_type": "code",
   "execution_count": null,
   "id": "de01e120",
   "metadata": {},
   "outputs": [],
   "source": [
    "A[1] == A[1, :], which will use the given index to select that row, and then print all elements in that row. So [1] will give all elements in the second row. \n",
    "A[:,1] would give all elements in the first column. "
   ]
  },
  {
   "cell_type": "markdown",
   "id": "6652d0c9",
   "metadata": {},
   "source": [
    "### Iterating over multidimensional arrays is done with respect to the first axis, so in the example below we iterate trough the rows. If you would like to iterate through the array *elementwise*, how would you do that?"
   ]
  },
  {
   "cell_type": "code",
   "execution_count": 7,
   "id": "9459864f",
   "metadata": {},
   "outputs": [
    {
     "data": {
      "text/plain": [
       "array([[ 1,  2,  3,  4,  5],\n",
       "       [ 6,  7,  8,  9, 10],\n",
       "       [11, 12, 13, 14, 15]])"
      ]
     },
     "execution_count": 7,
     "metadata": {},
     "output_type": "execute_result"
    }
   ],
   "source": [
    "A"
   ]
  },
  {
   "cell_type": "code",
   "execution_count": 8,
   "id": "a671bb5a",
   "metadata": {},
   "outputs": [
    {
     "name": "stdout",
     "output_type": "stream",
     "text": [
      "[1 2 3 4 5]\n",
      "[ 6  7  8  9 10]\n",
      "[11 12 13 14 15]\n"
     ]
    }
   ],
   "source": [
    "for i in A:\n",
    "    print(i)"
   ]
  },
  {
   "cell_type": "code",
   "execution_count": 9,
   "id": "f4e443a0",
   "metadata": {},
   "outputs": [
    {
     "name": "stdout",
     "output_type": "stream",
     "text": [
      "To iterate through an array elementwise, we can use the .flat attribute to make a flattened (1 dimensional) array.\n",
      "1\n",
      "2\n",
      "3\n",
      "4\n",
      "5\n",
      "6\n",
      "7\n",
      "8\n",
      "9\n",
      "10\n",
      "11\n",
      "12\n",
      "13\n",
      "14\n",
      "15\n"
     ]
    }
   ],
   "source": [
    "print('To iterate through an array elementwise, we can use the .flat attribute to make a flattened (1 dimensional) array.') \n",
    "for _ in A.flat:\n",
    "    print(_)"
   ]
  },
  {
   "cell_type": "markdown",
   "id": "608a2583",
   "metadata": {},
   "source": [
    "### Explain what the code below does. More specifically, b has three axes - what does this mean? "
   ]
  },
  {
   "cell_type": "code",
   "execution_count": 21,
   "id": "f8f9b26f",
   "metadata": {},
   "outputs": [
    {
     "name": "stdout",
     "output_type": "stream",
     "text": [
      "[ 0  1  2  3  4  5  6  7  8  9 10 11 12 13 14 15 16 17 18 19 20 21 22 23\n",
      " 24 25 26 27 28 29]\n",
      "\n",
      "[[[ 0  1  2  3  4]\n",
      "  [ 5  6  7  8  9]\n",
      "  [10 11 12 13 14]]\n",
      "\n",
      " [[15 16 17 18 19]\n",
      "  [20 21 22 23 24]\n",
      "  [25 26 27 28 29]]]\n"
     ]
    }
   ],
   "source": [
    "a = np.arange(30)\n",
    "b = a.reshape((2, 3, -1))\n",
    "print(a)\n",
    "print()\n",
    "\n",
    "print(b)"
   ]
  },
  {
   "cell_type": "code",
   "execution_count": 25,
   "id": "863a45df",
   "metadata": {},
   "outputs": [
    {
     "name": "stdout",
     "output_type": "stream",
     "text": [
      "The code generates a 1-D array (a) which contains 30 elements, \n",
      "then it is reshaped into \"b\" which has 2 blocks, 3 rows and the \n",
      "final paramter,\"-1\", tells numpy to calculate the final dimension to match \n",
      "the number of elements (20/(2*3) = 5)\n"
     ]
    }
   ],
   "source": [
    "print('The code generates a 1-D array (a) which contains 30 elements, \\nthen it is reshaped into \"b\" which has 2 blocks, 3 rows and the \\nfinal paramter,\"-1\", tells numpy to calculate the final dimension to match \\nthe number of elements (20/(2*3) = 5)')"
   ]
  },
  {
   "cell_type": "code",
   "execution_count": null,
   "id": "eed38bbb-dd20-4d23-837f-679aa3d3a067",
   "metadata": {},
   "outputs": [],
   "source": []
  },
  {
   "cell_type": "markdown",
   "id": "421c9607-819a-401d-949a-97424436fe29",
   "metadata": {},
   "source": [
    "# For the exercises below, read the document *\"matematik_yh_antonio_vektorer_matriser_utdrag\"*\n",
    "# Solutions to the exercises and recorded videos can be found here: https://github.com/AntonioPrgomet/matematik_foer_yh\n",
    "\n",
    "# If you find the exercises below very hard, do not worry. Try your best, that will be enough. "
   ]
  },
  {
   "cell_type": "markdown",
   "id": "ab5933d5",
   "metadata": {},
   "source": [
    "### Broadcasting\n",
    "**Read the following link about broadcasting: https://numpy.org/doc/stable/user/basics.broadcasting.html#basics-broadcasting**"
   ]
  },
  {
   "cell_type": "markdown",
   "id": "039805ba",
   "metadata": {},
   "source": [
    "# Remark on Broadcasting when doing Linear Algebra calculations in Python. "
   ]
  },
  {
   "cell_type": "markdown",
   "id": "c4bcc147",
   "metadata": {},
   "source": [
    "### From the mathematical rules of matrix addition, the operation below (m1 + m2) does not make sense. The reason is that matrix addition requires two matrices of the same size. In Python however, it works due to broadcasting rules in NumPy. So you must be careful when doing Linear Algebra calculations in Python since they do not follow the \"mathematical rules\". This can however easily be handled by doing some simple programming, for example validating that two matrices have the same shape is easy if you for instance want to add two matrices. "
   ]
  },
  {
   "cell_type": "code",
   "execution_count": 28,
   "id": "1fd46778",
   "metadata": {},
   "outputs": [
    {
     "name": "stdout",
     "output_type": "stream",
     "text": [
      "[[1 2]\n",
      " [3 4]]\n",
      "\n",
      "[1 1]\n",
      "\n",
      "[[2 3]\n",
      " [4 5]]\n"
     ]
    }
   ],
   "source": [
    "m1 = np.array([[1, 2], [3, 4]])\n",
    "m2 = np.array([1, 1])\n",
    "print(m1)\n",
    "print()\n",
    "print(m2)\n",
    "print()\n",
    "print(m1 + m2)"
   ]
  },
  {
   "cell_type": "markdown",
   "id": "047d6576",
   "metadata": {},
   "source": [
    "### The example below would also not be allowed if following the \"mathematical rules\" in Linear Algebra. But it works due to broadcasting in NumPy. "
   ]
  },
  {
   "cell_type": "code",
   "execution_count": 29,
   "id": "5e6ef2e4",
   "metadata": {},
   "outputs": [
    {
     "name": "stdout",
     "output_type": "stream",
     "text": [
      "[2 3 4]\n"
     ]
    }
   ],
   "source": [
    "v1 = np.array([1, 2, 3])\n",
    "print(v1 + 1)"
   ]
  },
  {
   "cell_type": "code",
   "execution_count": 30,
   "id": "e2cbae26",
   "metadata": {},
   "outputs": [
    {
     "name": "stdout",
     "output_type": "stream",
     "text": [
      "[[1 2]\n",
      " [3 4]]\n",
      "[2 2]\n"
     ]
    }
   ],
   "source": [
    "A = np.arange(1, 5).reshape(2,2)\n",
    "print(A)\n",
    "\n",
    "b = np.array([2, 2])\n",
    "print(b)"
   ]
  },
  {
   "cell_type": "markdown",
   "id": "722fd5cd",
   "metadata": {},
   "source": [
    "# Vector- and matrix algebra Exercises"
   ]
  },
  {
   "cell_type": "markdown",
   "id": "b63a3081-d976-4d9f-bfd0-a63917e79f7d",
   "metadata": {},
   "source": [
    "**Now you are going to create a function that can be reused every time you add or multiply matrices. The function is created so that we do the addition and multiplication according to the rules of vector- and matrix algebra.**\n",
    "\n",
    "**Create a function \"add_mult_matrices\" that takes two matrices as input arguments (validate that the input are of the type numpy.ndarray by using the isinstance function), a third argument that is either 'add' or 'multiply' that specifies if you want to add or multiply the matrices (validate that the third argument is either 'add' or 'multiply'). When doing matrix addition, validate that the matrices have the same size. When doing matrix multiplication, validate that the sizes conform (i.e. number of columns in the first matrix is equal to the number of rows in the second matrix).**"
   ]
  },
  {
   "cell_type": "code",
   "execution_count": 39,
   "id": "3506f977-ac0a-473f-85bc-eec9f35dc498",
   "metadata": {},
   "outputs": [
    {
     "name": "stdout",
     "output_type": "stream",
     "text": [
      "[[ 6  8]\n",
      " [10 12]]\n",
      "[[19 22]\n",
      " [43 50]]\n"
     ]
    }
   ],
   "source": [
    "import numpy as np\n",
    "def add_mult_matrices(m1, m2, operation):\n",
    "    if not isinstance(m1, np.ndarray) or not isinstance(m2, np.ndarray):\n",
    "        raise ValueError('Only matrices are permitted')\n",
    "    if operation not in  ['add', 'multiply']:\n",
    "        raise ValueError('Operation must be either \"add\" or \"multiply\"')\n",
    "\n",
    "    if operation == 'add':\n",
    "        if m1.shape != m2.shape:\n",
    "            raise ValueError('Matrices must be of the same shape')\n",
    "        else:\n",
    "            return m1 + m2\n",
    "\n",
    "    elif operation == 'multiply':\n",
    "        if m1.shape[1] != m2.shape[0]:\n",
    "          raise ValueError('Matrices must have compatible dimensions')\n",
    "        else:\n",
    "            return m1 @ m2\n",
    "\n",
    "m1 = np.array([[1,2], [3,4]])\n",
    "m2 = np.array([[5,6], [7,8]])\n",
    "\n",
    "result_add = add_mult_matrices(m1, m2, 'add')\n",
    "print (result_add)\n",
    "result_multiply = add_mult_matrices(m1, m2, 'multiply')\n",
    "print (result_multiply)"
   ]
  },
  {
   "cell_type": "markdown",
   "id": "8dad82d0-2359-4dff-8f5b-a57d3e34103c",
   "metadata": {},
   "source": [
    "### Solve all the exercises in chapter 10.1 in the book \"Matematik för yrkeshögskolan\". "
   ]
  },
  {
   "cell_type": "code",
   "execution_count": 10,
   "id": "ec840896",
   "metadata": {},
   "outputs": [
    {
     "name": "stdout",
     "output_type": "stream",
     "text": [
      "Uppgift 10.1.1\n",
      "a (2,)\n",
      "b [20 15]\n",
      "c [12  9]\n",
      "d [32 24]\n",
      "e [32 24]\n",
      "f [12  9]\n",
      "g_1 [4 3]\n",
      "g_2 (2,)\n",
      "h. It is defined because it is the same value, as x is a 1D vector.\n",
      "i 5.0\n"
     ]
    }
   ],
   "source": [
    "x = np.array([4,3])\n",
    "print('Uppgift 10.1.1')\n",
    "print('a',x.shape)\n",
    "print('b',5*x)\n",
    "print('c',3*x)\n",
    "print('d',5*x + 3*x)\n",
    "print('e',8*x)\n",
    "print('f',4*x - x)\n",
    "print('g_1',x.T)\n",
    "print('g_2',x.T.shape)\n",
    "print('h. It is defined because it is the same value, as x is a 1D vector.')\n",
    "norm_x = np.linalg.norm(x)\n",
    "print('i',norm_x)"
   ]
  },
  {
   "cell_type": "code",
   "execution_count": 72,
   "id": "89df88af-3668-4d98-a0a4-e6d92eea0f89",
   "metadata": {},
   "outputs": [
    {
     "name": "stdout",
     "output_type": "stream",
     "text": [
      "Uppgift 10.1.2\n",
      "a (4, 1)\n",
      "b [[ 6]\n",
      " [14]\n",
      " [ 0]\n",
      " [22]]\n",
      "d [[21]\n",
      " [49]\n",
      " [ 0]\n",
      " [77]]\n",
      "d [[ 6]\n",
      " [14]\n",
      " [ 0]\n",
      " [22]]\n",
      "e_1 [[ 3  7  0 11]]\n",
      "e_2 (1, 4)\n",
      "f 13.379088160259652\n"
     ]
    }
   ],
   "source": [
    "v = np.array([[3], [7], [0],[11]])\n",
    "print('Uppgift 10.1.2')\n",
    "print('a',v.shape)\n",
    "print('b',2*v)\n",
    "print('d',5*v+2*v)\n",
    "print('d',4*v - 2*v)\n",
    "print('e_1',v.T)\n",
    "print('e_2',v.T.shape)\n",
    "v_norm = np.linalg.norm(v)\n",
    "print('f',v_norm)"
   ]
  },
  {
   "cell_type": "code",
   "execution_count": 73,
   "id": "6b3f86d7",
   "metadata": {},
   "outputs": [
    {
     "name": "stdout",
     "output_type": "stream",
     "text": [
      "Uppgift 10.1.3\n",
      "a 7.14142842854285\n",
      "b 4.47213595499958\n"
     ]
    }
   ],
   "source": [
    "v1 = np.array([[4,3,1,5]])\n",
    "v2 = np.array([[2,3,1,1]])\n",
    "print('Uppgift 10.1.3')\n",
    "v1_norm = np.linalg.norm(v1)\n",
    "v_product= np.linalg.norm(v1-v2)\n",
    "print('a',v1_norm)\n",
    "print('b',v_product)"
   ]
  },
  {
   "cell_type": "markdown",
   "id": "75c98984-1f88-4df1-b850-d2466de444a5",
   "metadata": {},
   "source": [
    "### Solve all the exercises, except 10.2.4, in chapter 10.2 in the book \"Matematik för yrkeshögskolan\". "
   ]
  },
  {
   "cell_type": "code",
   "execution_count": 12,
   "id": "65371610-16e1-48b2-b7fb-65e49002608a",
   "metadata": {},
   "outputs": [
    {
     "name": "stdout",
     "output_type": "stream",
     "text": [
      "Uppgift 10.2.1\n",
      "all matrices\n",
      "[[ 2  1 -1]\n",
      " [ 1 -1  1]]\n",
      "[[ 4 -2  1]\n",
      " [ 2 -4 -2]]\n",
      "[[1 2]\n",
      " [2 1]]\n",
      "[[3 4]\n",
      " [4 3]]\n",
      "[[1]\n",
      " [2]]\n",
      "[[1 0]\n",
      " [0 1]]\n",
      "a\n",
      "[[ 4  2 -2]\n",
      " [ 2 -2  2]]\n",
      "b\n",
      "[[ 0 -4  3]\n",
      " [ 0 -2 -4]]\n",
      "c\n",
      "[[ 1  4]\n",
      " [ 2 -1]]\n",
      "d\n",
      "[[3 2]\n",
      " [2 3]]\n",
      "e\n",
      "[[-3 -4]\n",
      " [-4 -3]]\n",
      "f\n",
      "[[-4 -4]\n",
      " [-4 -4]]\n",
      "h\n",
      "i\n",
      "[[11 10]\n",
      " [10 11]]\n",
      "j\n",
      "[[  8 -10  -3]\n",
      " [ 10  -8   0]]\n",
      "k\n",
      "[[1 2]\n",
      " [2 1]]\n",
      "l\n",
      "[[5 2]\n",
      " [7 4]]\n"
     ]
    }
   ],
   "source": [
    "print('Uppgift 10.2.1')\n",
    "A = np.array([[2,1,-1],[1,-1,1]])\n",
    "B = np.array([[4,-2, 1],[2,-4, -2]])\n",
    "C = np.array([[1,2],[2,1]])\n",
    "D = np.array([[3,4],[4,3]])\n",
    "E = np.array([[1],[2]])\n",
    "I = np.array([[1,0],[0,1]])\n",
    "print('all matrices')\n",
    "print(A)\n",
    "print(B)\n",
    "print(C)\n",
    "print(D)\n",
    "print(E)\n",
    "print(I)\n",
    "\n",
    "print('a')\n",
    "print(2*A)\n",
    "print('b')\n",
    "print(B-2*A)\n",
    "print('c')\n",
    "print(3*C- 2*E)\n",
    "print('d')\n",
    "print(2*D- 3*C)\n",
    "print('e')\n",
    "print(D.T- 2*D)\n",
    "print('f')\n",
    "print(2*C.T - 2*D.T)\n",
    "#print('g')\n",
    "#print(A.T- B)\n",
    "print('h')\n",
    "#print(A@C)\n",
    "print('i')\n",
    "print(C@D)\n",
    "print('j')\n",
    "print(C@B)\n",
    "print('k')\n",
    "print(C@I)\n",
    "print('l')\n",
    "print(A@B.T)\n",
    "\n"
   ]
  },
  {
   "cell_type": "code",
   "execution_count": 9,
   "id": "db8d7d38",
   "metadata": {},
   "outputs": [
    {
     "name": "stdout",
     "output_type": "stream",
     "text": [
      "[[29 26]\n",
      " [26 42]]\n"
     ]
    }
   ],
   "source": [
    "A = np.array([[2,3,4],[5,4,1]])\n",
    "\n",
    "print (A@A.T)"
   ]
  },
  {
   "cell_type": "code",
   "execution_count": 18,
   "id": "a43a5890",
   "metadata": {},
   "outputs": [
    {
     "name": "stdout",
     "output_type": "stream",
     "text": [
      "Uppgift 10.2.3\n",
      "AB = AC\n",
      "[[ 4  7]\n",
      " [ 8 14]]\n",
      "[[ 4  7]\n",
      " [ 8 14]]\n",
      "B != C\n",
      "[[2 1]\n",
      " [1 3]]\n",
      "[[4 3]\n",
      " [0 2]]\n"
     ]
    }
   ],
   "source": [
    "A = np.array([[1,2],[2,4]])\n",
    "B = np.array([[2,1],[1,3]])\n",
    "C = np.array([[4,3],[0,2]])\n",
    "print('Uppgift 10.2.3')\n",
    "print('AB = AC')\n",
    "print(A@B)\n",
    "print(A@C)\n",
    "print('B != C')\n",
    "print(B)\n",
    "print(C)"
   ]
  },
  {
   "cell_type": "markdown",
   "id": "6a4a524f",
   "metadata": {},
   "source": [
    "### Copies and Views\n",
    "Read the following link: https://numpy.org/doc/stable/user/basics.copies.html"
   ]
  },
  {
   "cell_type": "markdown",
   "id": "6cbbeaf7",
   "metadata": {},
   "source": [
    "**Basic indexing creates a view, How can you check if v1 and v2 is a view or copy? If you change the last element in v2 to 123, will the last element in v1 be changed? Why?**"
   ]
  },
  {
   "cell_type": "code",
   "execution_count": 82,
   "id": "5b9ef4df",
   "metadata": {},
   "outputs": [
    {
     "name": "stdout",
     "output_type": "stream",
     "text": [
      "[0 1 2 3]\n",
      "[2 3]\n"
     ]
    },
    {
     "data": {
      "text/plain": [
       "True"
      ]
     },
     "execution_count": 82,
     "metadata": {},
     "output_type": "execute_result"
    }
   ],
   "source": [
    "v1 = np.arange(4)\n",
    "v2 = v1[-2:]\n",
    "print(v1)\n",
    "print(v2)\n",
    "np.may_share_memory(v1, v2)"
   ]
  },
  {
   "cell_type": "code",
   "execution_count": 76,
   "id": "d2440489",
   "metadata": {},
   "outputs": [
    {
     "name": "stdout",
     "output_type": "stream",
     "text": [
      "None\n",
      "[0 1 2 3]\n"
     ]
    }
   ],
   "source": [
    "# The base attribute of a view returns the original array while it returns None for a copy.\n",
    "print(v1.base)\n",
    "print(v2.base)"
   ]
  },
  {
   "cell_type": "code",
   "execution_count": 77,
   "id": "c8752807",
   "metadata": {},
   "outputs": [
    {
     "name": "stdout",
     "output_type": "stream",
     "text": [
      "[  0   1   2 123]\n",
      "[  2 123]\n"
     ]
    }
   ],
   "source": [
    "# The last element in v1 will be changed aswell since v2 is a view, meaning they share the same data buffer.\n",
    "v2[-1] = 123\n",
    "print(v1)\n",
    "print(v2)"
   ]
  },
  {
   "cell_type": "code",
   "execution_count": null,
   "id": "3dd68221",
   "metadata": {},
   "outputs": [],
   "source": []
  }
 ],
 "metadata": {
  "kernelspec": {
   "display_name": "Python 3",
   "language": "python",
   "name": "python3"
  },
  "language_info": {
   "codemirror_mode": {
    "name": "ipython",
    "version": 3
   },
   "file_extension": ".py",
   "mimetype": "text/x-python",
   "name": "python",
   "nbconvert_exporter": "python",
   "pygments_lexer": "ipython3",
   "version": "3.12.7"
  }
 },
 "nbformat": 4,
 "nbformat_minor": 5
}
